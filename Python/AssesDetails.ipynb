{
 "cells": [
  {
   "cell_type": "code",
   "execution_count": null,
   "metadata": {},
   "outputs": [],
   "source": [
    "import pymongo\n",
    "import requests\n",
    "import json"
   ]
  },
  {
   "cell_type": "code",
   "execution_count": null,
   "metadata": {},
   "outputs": [],
   "source": [
    "CoinGeckoApi = 'https://api.coingecko.com/api/v3/coins/list?include_platform=false'\n",
    "CoinCapApi =   'https://api.coincap.io/v2/assets'"
   ]
  },
  {
   "cell_type": "code",
   "execution_count": null,
   "metadata": {},
   "outputs": [],
   "source": [
    "def AddAssestDetailsData(obj):\n",
    "    myclient = pymongo.MongoClient(\"mongodb://localhost:27017/\")\n",
    "    mydb = myclient[\"Coin\"]\n",
    "    mycol = mydb[\"AssestDetails\"]\n",
    "    mycol.insert_one(obj)"
   ]
  },
  {
   "cell_type": "code",
   "execution_count": null,
   "metadata": {},
   "outputs": [],
   "source": [
    "def jprint(obj):\n",
    "    # create a formatted string of the Python JSON object\n",
    "    text = json.dumps(obj, sort_keys=False, indent=2)\n",
    "    print(text)"
   ]
  },
  {
   "cell_type": "code",
   "execution_count": null,
   "metadata": {},
   "outputs": [],
   "source": [
    "def SingleGetData(CoinGeckoApi,CoinCapApi ):\n",
    "        CoinGeckoApi_response = requests.get(CoinGeckoApi)\n",
    "        CoinCapApi_response = requests.get(CoinCapApi)\n",
    "        if CoinGeckoApi_response.status_code == 200 and CoinCapApi_response.status_code == 200 :\n",
    "             CoinGeckoApi_data = CoinGeckoApi_response.json()\n",
    "             CoinCapApi_data = CoinCapApi_response.json()[\"data\"]\n",
    "             \n",
    "             CoinGeckoApi_data.pop(\"image\")\n",
    "             CoinGeckoApi_data.pop(\"id\")\n",
    "             CoinGeckoApi_data.pop(\"name\")\n",
    "             CoinGeckoApi_data.pop(\"symbol\")\n",
    "\n",
    "             CoinCapApi_data[\"AssestId\"] =  CoinCapApi_data[\"id\"]\n",
    "             CoinCapApi_data.pop(\"id\")\n",
    "             CoinCapApi_data.pop(\"name\")\n",
    "             CoinCapApi_data.pop(\"symbol\")\n",
    "             jprint({**CoinCapApi_data,**CoinGeckoApi_data})\n",
    "             AddAssestDetailsData({**CoinCapApi_data,**CoinGeckoApi_data})\n",
    "        else:\n",
    "            print(\"error SingleGetData\")"
   ]
  },
  {
   "cell_type": "code",
   "execution_count": null,
   "metadata": {},
   "outputs": [],
   "source": [
    "def getAssestManagerData(CoinGeckoApi,CoinCapApi):\n",
    "        CoinGeckoApi_response = requests.get(CoinGeckoApi)\n",
    "        CoinCapApi_response = requests.get(CoinCapApi)\n",
    "        if CoinGeckoApi_response.status_code == 200 and CoinCapApi_response.status_code == 200 :\n",
    "             CoinGeckoApi_data = CoinGeckoApi_response.json()\n",
    "             CoinCapApi_data = CoinCapApi_response.json()[\"data\"]\n",
    "             for x in CoinGeckoApi_data:\n",
    "                for y in CoinCapApi_data:\n",
    "                 if x[\"id\"] == y[\"id\"]:\n",
    "                    SingleCoinGeckoApi= 'https://api.coingecko.com/api/v3/coins/{}'.format(x['id'])\n",
    "                    SingleCoinCapApi= 'https://api.coincap.io/v2/assets/{}'.format(y['id'])\n",
    "                    SingleGetData(SingleCoinGeckoApi,SingleCoinCapApi )\n",
    "                else:\n",
    "                    print(\"Not Match\")         \n",
    "        else:\n",
    "            print(\"error\")"
   ]
  },
  {
   "cell_type": "code",
   "execution_count": 7,
   "metadata": {},
   "outputs": [],
   "source": [
    "getAssestManagerData(CoinGeckoApi,CoinCapApi)"
   ]
  }
 ],
 "metadata": {
  "kernelspec": {
   "display_name": "Python 3.9.7 ('base')",
   "language": "python",
   "name": "python3"
  },
  "language_info": {
   "codemirror_mode": {
    "name": "ipython",
    "version": 3
   },
   "file_extension": ".py",
   "mimetype": "text/x-python",
   "name": "python",
   "nbconvert_exporter": "python",
   "pygments_lexer": "ipython3",
   "version": "3.9.7"
  },
  "orig_nbformat": 4,
  "vscode": {
   "interpreter": {
    "hash": "518071c88b4194aee059da36c8bb8c7f03edabff5e31c99a4f47aa39aa99e517"
   }
  }
 },
 "nbformat": 4,
 "nbformat_minor": 2
}
