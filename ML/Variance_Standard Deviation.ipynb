{
 "cells": [
  {
   "cell_type": "code",
   "execution_count": 46,
   "metadata": {},
   "outputs": [],
   "source": [
    "speed = [99,86,87,88,111,86,103,87,94,78,77,85,86]"
   ]
  },
  {
   "cell_type": "code",
   "execution_count": 47,
   "metadata": {},
   "outputs": [
    {
     "data": {
      "text/plain": [
       "89.76923076923077"
      ]
     },
     "execution_count": 47,
     "metadata": {},
     "output_type": "execute_result"
    }
   ],
   "source": [
    "mean = (99+86+87+88+111+86+103+87+94+78+77+85+86) / 13\n",
    "mean"
   ]
  },
  {
   "cell_type": "code",
   "execution_count": 48,
   "metadata": {},
   "outputs": [],
   "source": [
    "import numpy as np"
   ]
  },
  {
   "cell_type": "code",
   "execution_count": 49,
   "metadata": {},
   "outputs": [
    {
     "data": {
      "text/plain": [
       "89.76923076923077"
      ]
     },
     "execution_count": 49,
     "metadata": {},
     "output_type": "execute_result"
    }
   ],
   "source": [
    "mean_ = numpy.mean(speed)\n",
    "mean_"
   ]
  },
  {
   "cell_type": "code",
   "execution_count": 50,
   "metadata": {},
   "outputs": [
    {
     "data": {
      "text/plain": [
       "(77, 78, 85, 86, 86, 86, 87, 87, 88, 94, 99, 103, 111)"
      ]
     },
     "execution_count": 50,
     "metadata": {},
     "output_type": "execute_result"
    }
   ],
   "source": [
    "77, 78, 85, 86, 86, 86, 87, 87, 88, 94, 99, 103, 111\n",
    "# median = 87"
   ]
  },
  {
   "cell_type": "code",
   "execution_count": 51,
   "metadata": {},
   "outputs": [
    {
     "data": {
      "text/plain": [
       "87.0"
      ]
     },
     "execution_count": 51,
     "metadata": {},
     "output_type": "execute_result"
    }
   ],
   "source": [
    "median = numpy.median(speed)\n",
    "median"
   ]
  },
  {
   "attachments": {},
   "cell_type": "markdown",
   "metadata": {},
   "source": [
    "What is Variance & Standard Deviation?"
   ]
  },
  {
   "attachments": {},
   "cell_type": "markdown",
   "metadata": {},
   "source": [
    "स्टैंडर्ड डेवियेशन (Standard Deviation) यानी मानक विचलन ऐसा आंकड़ा है जो डाटासेट के फैलाव को उसके औसत के सापेक्ष माप करता है। स्टैंडर्ड डेवियेशन की गणना औसत की तुलना में प्रत्येक डाटा प्वॉइंट के विचलन के निर्धारण के द्वारा भिन्नता के वर्गमूल के रूप में की जाती है। अगर डाटा प्वॉइंट औसत से और दूर जाते हैं तो डाटासेट के भीतर उच्चतर विचलन होता है। इस प्रकार डाटा जितना अधिक फैलता है, मानक विचलन उतना ही अधिक होता है।"
   ]
  },
  {
   "attachments": {},
   "cell_type": "markdown",
   "metadata": {},
   "source": [
    "स्टैंडर्ड डेवियेशन की गणना निम्न प्रकार से की जाती है:\n",
    "\n",
    "1. औसत वैल्यू की गणना सभी डाटा प्वॉइंट को जोड़ने और डाटा प्वॉइंट की संख्या से विभाजित करने के द्वारा की जाती है।\n",
    "\n",
    "2. प्रत्येक डाटा प्वॉइंट के लिए वैरिएंस की गणना डाटा प्वॉइंट की वैल्यू से औसत को घटाने के द्वारा की जाती है। फिर उन परिणामी वैल्यू में से प्रत्येक को स्क्वायर किया जाता है और परिणाम का योग निकाला जाता है। उसके बाद डाटा प्वॉइंट की संख्या द्वारा परिणाम को विभाजित किया जाता है।\n",
    "3. फिर संख्या 2 का परिणाम-वैरिएंस का वर्ग मूल- का उपयोग स्टैंडर्ड डेवियेशन को प्राप्त करने के लिए किया जाता है।"
   ]
  },
  {
   "attachments": {},
   "cell_type": "markdown",
   "metadata": {},
   "source": [
    "Standard Deviation is often represented by the symbol Sigma: σ\n",
    "\n",
    "Variance is often represented by the symbol Sigma Squared: σ2"
   ]
  },
  {
   "cell_type": "code",
   "execution_count": 52,
   "metadata": {},
   "outputs": [
    {
     "data": {
      "text/plain": [
       "9.258292301032677"
      ]
     },
     "execution_count": 52,
     "metadata": {},
     "output_type": "execute_result"
    }
   ],
   "source": [
    "std = np.std(speed)\n",
    "std"
   ]
  },
  {
   "attachments": {},
   "cell_type": "markdown",
   "metadata": {},
   "source": [
    "1. Find the mean:\n",
    "\n",
    "(32+111+138+28+59+77+97) / 7 = 77.4\n",
    "\n",
    "2. For each value: find the difference from the mean:\n",
    "\n",
    " 32 - 77.4 = -45.4\n",
    "111 - 77.4 =  33.6\n",
    "138 - 77.4 =  60.6\n",
    " 28 - 77.4 = -49.4\n",
    " 59 - 77.4 = -18.4\n",
    " 77 - 77.4 = - 0.4\n",
    " 97 - 77.4 =  19.6\n",
    "\n",
    "\n",
    " 3. For each difference: find the square value:\n",
    "\n",
    "(-45.4)2 = 2061.16\n",
    " (33.6)2 = 1128.96\n",
    " (60.6)2 = 3672.36\n",
    "(-49.4)2 = 2440.36\n",
    "(-18.4)2 =  338.56\n",
    "(- 0.4)2 =    0.16\n",
    " (19.6)2 =  384.16\n",
    "\n",
    "\n",
    " 4. The variance is the average number of these squared differences:\n",
    "\n",
    "(2061.16+1128.96+3672.36+2440.36+338.56+0.16+384.16) / 7 = 1432.2\n",
    "\n",
    "\n",
    "Standard Deviation\n",
    "As we have learned, the formula to find the standard deviation is the square root of the variance:\n",
    "\n",
    "√1432.25 = 37.85"
   ]
  },
  {
   "cell_type": "code",
   "execution_count": 53,
   "metadata": {},
   "outputs": [
    {
     "name": "stdout",
     "output_type": "stream",
     "text": [
      "37.84501153334721\n"
     ]
    }
   ],
   "source": [
    "speed = [32,111,138,28,59,77,97]\n",
    "x = numpy.std(speed)\n",
    "print(x)"
   ]
  },
  {
   "cell_type": "code",
   "execution_count": null,
   "metadata": {},
   "outputs": [],
   "source": []
  }
 ],
 "metadata": {
  "kernelspec": {
   "display_name": "Python 3",
   "language": "python",
   "name": "python3"
  },
  "language_info": {
   "codemirror_mode": {
    "name": "ipython",
    "version": 3
   },
   "file_extension": ".py",
   "mimetype": "text/x-python",
   "name": "python",
   "nbconvert_exporter": "python",
   "pygments_lexer": "ipython3",
   "version": "3.10.5"
  },
  "orig_nbformat": 4,
  "vscode": {
   "interpreter": {
    "hash": "1c697d69f927956c0f87158e03f309f8069fc71ae87cd648e9b5b7140a5374b5"
   }
  }
 },
 "nbformat": 4,
 "nbformat_minor": 2
}
