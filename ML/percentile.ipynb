{
 "cells": [
  {
   "attachments": {},
   "cell_type": "markdown",
   "metadata": {},
   "source": [
    "कैट यानी कॉमन ऐडमिशन टेस्ट (common admission test-cat) पास करने के बाद आपका दाखिला आईआईएम या देश के नामी बिजनस संस्थनों में हो जाता है। ऐसा माना जाता है कि अगर आपका कैट में स्कोर 99 परसेंटाइल हो तो आईआईएम में ऐडमिशन का ज्यादा चांस होता है। बहुत छात्रों को पता नहीं होता है कि परसेंटाइल क्या होता है। कुछ तो परसेंटेज को ही परसेंटाइल समझ लेते हैं। ऐसे में आपको यह जानना जरूरी है कि परसेंटेज और पर्सेंटाइल दो अलग-अलग चीजे हैं।"
   ]
  },
  {
   "attachments": {},
   "cell_type": "markdown",
   "metadata": {},
   "source": [
    "परसेंटेज\n",
    "परसेंटेज का मतलब होता है कि 100 में से आपको कितना नंबर मिला। जैसे आपका नंबर अगर 80 परसेंट है तो इसका मतलब है कि 100 में से आपको 80 नंबर मिले हैं। कुल की बात करें तो जितने नंबर का पेपर होता है, उसको परसेंटेज से गुणा करके 100 से भाग कर दीजिए। पता चल जाएगा कि आपको कुल कितना नंबर आया है। जैसे मान लीजिए कि पेपर कुल 500 मार्क्स का है और आपको 80 परसेंट नंबर आए हैं तो पहले आपको 500 को 80 से गुणा करना होगा। यानी 500x80=40000\n",
    "Watches For Women आपको दे सकती हैं कंप्लीट लुक और स्टाइल, देखें ये शानदार मॉडल्स |\n",
    "\n",
    "\n",
    "अब आप इसको 100 से भाग करेंगे तो 40000/100=400 आएगा। यानी आपको 500 में से 400 नंबर मिले हैं।"
   ]
  },
  {
   "attachments": {},
   "cell_type": "markdown",
   "metadata": {},
   "source": [
    "परसेंटाइल\n",
    "पर्सेंटाइल का मतलब होता है कि आपको कितने छात्रों से ज्यादा नंबर मिला। जैसे अगर आपका पर्सेंटाइल 60 फीसदी है तो इसका मतलब हुआ कि आपने 60 फीसदी उम्मीदवारों से ज्यादा मार्क्स हासिल किए हैं।"
   ]
  },
  {
   "attachments": {},
   "cell_type": "markdown",
   "metadata": {},
   "source": [
    "यूं निकाला जाता है पर्सेंटाइल\n",
    "100xकिसी ग्रुप में सर्वाधिक अंक लाने वाले कैंडिडेट्स से कम अंक लाने वाले छात्रों की कुल संख्या/ग्रुप के कुल कैंडिडेट्स की संख्या\n",
    "\n",
    "जैसे किसी छात्रों को 70 फीसदी मार्क्स मिले और 70 फीसदी से कम मार्क्स लाने वाले छात्रों की कुल संख्या 15000 है जबकि ग्रुप में कुल छात्रों की संख्या 18000 थी तो पर्सेंटाइल यूं निकाला जाएगा।\n",
    "100x15000/18000=83.33 फीसदी।"
   ]
  },
  {
   "cell_type": "code",
   "execution_count": 1,
   "metadata": {},
   "outputs": [],
   "source": [
    "import numpy as np"
   ]
  },
  {
   "attachments": {},
   "cell_type": "markdown",
   "metadata": {},
   "source": [
    "What is the 75. percentile? The answer is 43, meaning that 75% of the people are 43 or younger."
   ]
  },
  {
   "cell_type": "code",
   "execution_count": 3,
   "metadata": {},
   "outputs": [
    {
     "name": "stdout",
     "output_type": "stream",
     "text": [
      "43.0\n"
     ]
    }
   ],
   "source": [
    "ages = [5,31,43,48,50,41,7,11,15,39,80,82,32,2,8,6,25,36,27,61,31]\n",
    "\n",
    "x = np.percentile(ages, 75)\n",
    "\n",
    "print(x)"
   ]
  },
  {
   "cell_type": "code",
   "execution_count": null,
   "metadata": {},
   "outputs": [],
   "source": []
  }
 ],
 "metadata": {
  "kernelspec": {
   "display_name": "Python 3",
   "language": "python",
   "name": "python3"
  },
  "language_info": {
   "codemirror_mode": {
    "name": "ipython",
    "version": 3
   },
   "file_extension": ".py",
   "mimetype": "text/x-python",
   "name": "python",
   "nbconvert_exporter": "python",
   "pygments_lexer": "ipython3",
   "version": "3.10.5"
  },
  "orig_nbformat": 4,
  "vscode": {
   "interpreter": {
    "hash": "1c697d69f927956c0f87158e03f309f8069fc71ae87cd648e9b5b7140a5374b5"
   }
  }
 },
 "nbformat": 4,
 "nbformat_minor": 2
}
