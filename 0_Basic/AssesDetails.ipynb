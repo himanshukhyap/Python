{
 "cells": [
  {
   "cell_type": "code",
   "execution_count": 9,
   "metadata": {},
   "outputs": [],
   "source": [
    "import pymongo\n",
    "import requests\n",
    "import json"
   ]
  },
  {
   "cell_type": "code",
   "execution_count": 10,
   "metadata": {},
   "outputs": [],
   "source": [
    "myclient = pymongo.MongoClient(\"mongodb://localhost:27017/\")\n",
    "mydb = myclient[\"mydatabase\"] # In MongoDB, a database is not created until it gets content!\n",
    "# Creating a Collection\n",
    "mycol = mydb[\"customers\"] #  In MongoDB, a collection is not created until it gets content!\n",
    "\n",
    "# Insert Into Collection\n",
    "mydict = { \"name\": \"John\", \"address\": \"Highway 37\" }\n",
    "x = mycol.insert_one(mydict)\n",
    "\n",
    "mylist = [\n",
    "  { \"name\": \"Amy\", \"address\": \"Apple st 652\"},\n",
    "  { \"name\": \"Hannah\", \"address\": \"Mountain 21\"},\n",
    "  { \"name\": \"Michael\", \"address\": \"Valley 345\"},\n",
    "  { \"name\": \"Sandy\", \"address\": \"Ocean blvd 2\"},\n",
    "  { \"name\": \"Betty\", \"address\": \"Green Grass 1\"},\n",
    "  { \"name\": \"Richard\", \"address\": \"Sky st 331\"},\n",
    "  { \"name\": \"Susan\", \"address\": \"One way 98\"},\n",
    "  { \"name\": \"Vicky\", \"address\": \"Yellow Garden 2\"},\n",
    "  { \"name\": \"Ben\", \"address\": \"Park Lane 38\"},\n",
    "  { \"name\": \"William\", \"address\": \"Central st 954\"},\n",
    "  { \"name\": \"Chuck\", \"address\": \"Main Road 989\"},\n",
    "  { \"name\": \"Viola\", \"address\": \"Sideway 1633\"}\n",
    "]\n",
    "\n",
    "x = mycol.insert_many(mylist)"
   ]
  },
  {
   "cell_type": "code",
   "execution_count": 15,
   "metadata": {},
   "outputs": [
    {
     "name": "stdout",
     "output_type": "stream",
     "text": [
      "{'_id': ObjectId('66d53d857d9bb8adf60c3a97'), 'name': 'John', 'address': 'Highway 37'}\n",
      "{'_id': ObjectId('66d53d857d9bb8adf60c3a98'), 'name': 'Amy', 'address': 'Apple st 652'}\n",
      "{'_id': ObjectId('66d53d857d9bb8adf60c3a99'), 'name': 'Hannah', 'address': 'Mountain 21'}\n",
      "{'_id': ObjectId('66d53d857d9bb8adf60c3a9a'), 'name': 'Michael', 'address': 'Valley 345'}\n",
      "{'_id': ObjectId('66d53d857d9bb8adf60c3a9b'), 'name': 'Sandy', 'address': 'Ocean blvd 2'}\n",
      "{'_id': ObjectId('66d53d857d9bb8adf60c3a9c'), 'name': 'Betty', 'address': 'Green Grass 1'}\n",
      "{'_id': ObjectId('66d53d857d9bb8adf60c3a9d'), 'name': 'Richard', 'address': 'Sky st 331'}\n",
      "{'_id': ObjectId('66d53d857d9bb8adf60c3a9e'), 'name': 'Susan', 'address': 'One way 98'}\n",
      "{'_id': ObjectId('66d53d857d9bb8adf60c3a9f'), 'name': 'Vicky', 'address': 'Yellow Garden 2'}\n",
      "{'_id': ObjectId('66d53d857d9bb8adf60c3aa0'), 'name': 'Ben', 'address': 'Park Lane 38'}\n",
      "{'_id': ObjectId('66d53d857d9bb8adf60c3aa1'), 'name': 'William', 'address': 'Central st 954'}\n",
      "{'_id': ObjectId('66d53d857d9bb8adf60c3aa2'), 'name': 'Chuck', 'address': 'Main Road 989'}\n",
      "{'_id': ObjectId('66d53d857d9bb8adf60c3aa3'), 'name': 'Viola', 'address': 'Sideway 1633'}\n"
     ]
    }
   ],
   "source": [
    "myresult = mycol.find()\n",
    "for x in myresult:\n",
    "  print(x)"
   ]
  },
  {
   "cell_type": "code",
   "execution_count": null,
   "metadata": {},
   "outputs": [],
   "source": []
  }
 ],
 "metadata": {
  "kernelspec": {
   "display_name": "Python 3.9.7 ('base')",
   "language": "python",
   "name": "python3"
  },
  "language_info": {
   "codemirror_mode": {
    "name": "ipython",
    "version": 3
   },
   "file_extension": ".py",
   "mimetype": "text/x-python",
   "name": "python",
   "nbconvert_exporter": "python",
   "pygments_lexer": "ipython3",
   "version": "3.12.5"
  },
  "orig_nbformat": 4,
  "vscode": {
   "interpreter": {
    "hash": "518071c88b4194aee059da36c8bb8c7f03edabff5e31c99a4f47aa39aa99e517"
   }
  }
 },
 "nbformat": 4,
 "nbformat_minor": 2
}
