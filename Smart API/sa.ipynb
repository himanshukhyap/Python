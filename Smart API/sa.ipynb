{
 "cells": [
  {
   "cell_type": "code",
   "execution_count": 17,
   "metadata": {},
   "outputs": [],
   "source": [
    "# pip install smartapi-python\n"
   ]
  },
  {
   "cell_type": "code",
   "execution_count": 21,
   "metadata": {},
   "outputs": [],
   "source": [
    "from SmartApi import SmartConnect"
   ]
  },
  {
   "cell_type": "code",
   "execution_count": 22,
   "metadata": {},
   "outputs": [],
   "source": [
    "# Create an instance of SmartConnect\n",
    "api_key = \"tI7eW1Iq\"\n",
    "client_id = \"h63182432\"\n",
    "password = \"5241\"\n",
    "token = \"ID33DZDBESOS4YW7UGGDUZU4FE\""
   ]
  },
  {
   "cell_type": "code",
   "execution_count": 23,
   "metadata": {},
   "outputs": [
    {
     "name": "stderr",
     "output_type": "stream",
     "text": [
      "[I 240917 12:32:10 smartConnect:121] in pool\n"
     ]
    },
    {
     "ename": "OSError",
     "evalue": "[WinError 433] A device which does not exist was specified: 'logs'",
     "output_type": "error",
     "traceback": [
      "\u001b[1;31m---------------------------------------------------------------------------\u001b[0m",
      "\u001b[1;31mOSError\u001b[0m                                   Traceback (most recent call last)",
      "Cell \u001b[1;32mIn[23], line 3\u001b[0m\n\u001b[0;32m      1\u001b[0m \u001b[38;5;28;01mfrom\u001b[39;00m \u001b[38;5;21;01mSmartApi\u001b[39;00m \u001b[38;5;28;01mimport\u001b[39;00m SmartConnect\n\u001b[0;32m      2\u001b[0m \u001b[38;5;66;03m# Login to the API\u001b[39;00m\n\u001b[1;32m----> 3\u001b[0m smart_connect \u001b[38;5;241m=\u001b[39m \u001b[43mSmartConnect\u001b[49m\u001b[43m(\u001b[49m\u001b[43mapi_key\u001b[49m\u001b[38;5;241;43m=\u001b[39;49m\u001b[43mapi_key\u001b[49m\u001b[43m)\u001b[49m\n\u001b[0;32m      4\u001b[0m data \u001b[38;5;241m=\u001b[39m smart_connect\u001b[38;5;241m.\u001b[39mgenerateSession(client_id, password)\n\u001b[0;32m      6\u001b[0m \u001b[38;5;66;03m# Fetch the access token and user info\u001b[39;00m\n",
      "File \u001b[1;32m~\\AppData\\Local\\Packages\\PythonSoftwareFoundation.Python.3.12_qbz5n2kfra8p0\\LocalCache\\local-packages\\Python312\\site-packages\\SmartApi\\smartConnect.py:129\u001b[0m, in \u001b[0;36mSmartConnect.__init__\u001b[1;34m(self, api_key, access_token, refresh_token, feed_token, userId, root, debug, timeout, proxies, pool, disable_ssl, accept, userType, sourceID, Authorization, clientPublicIP, clientMacAddress, clientLocalIP, privateKey)\u001b[0m\n\u001b[0;32m    127\u001b[0m log_folder \u001b[38;5;241m=\u001b[39m time\u001b[38;5;241m.\u001b[39mstrftime(\u001b[38;5;124m\"\u001b[39m\u001b[38;5;124m%\u001b[39m\u001b[38;5;124mY-\u001b[39m\u001b[38;5;124m%\u001b[39m\u001b[38;5;124mm-\u001b[39m\u001b[38;5;132;01m%d\u001b[39;00m\u001b[38;5;124m\"\u001b[39m, time\u001b[38;5;241m.\u001b[39mlocaltime())\n\u001b[0;32m    128\u001b[0m log_folder_path \u001b[38;5;241m=\u001b[39m os\u001b[38;5;241m.\u001b[39mpath\u001b[38;5;241m.\u001b[39mjoin(\u001b[38;5;124m\"\u001b[39m\u001b[38;5;124mlogs\u001b[39m\u001b[38;5;124m\"\u001b[39m, log_folder)  \u001b[38;5;66;03m# Construct the full path to the log folder\u001b[39;00m\n\u001b[1;32m--> 129\u001b[0m \u001b[43mos\u001b[49m\u001b[38;5;241;43m.\u001b[39;49m\u001b[43mmakedirs\u001b[49m\u001b[43m(\u001b[49m\u001b[43mlog_folder_path\u001b[49m\u001b[43m,\u001b[49m\u001b[43m \u001b[49m\u001b[43mexist_ok\u001b[49m\u001b[38;5;241;43m=\u001b[39;49m\u001b[38;5;28;43;01mTrue\u001b[39;49;00m\u001b[43m)\u001b[49m \u001b[38;5;66;03m# Create the log folder if it doesn't exist\u001b[39;00m\n\u001b[0;32m    130\u001b[0m log_path \u001b[38;5;241m=\u001b[39m os\u001b[38;5;241m.\u001b[39mpath\u001b[38;5;241m.\u001b[39mjoin(log_folder_path, \u001b[38;5;124m\"\u001b[39m\u001b[38;5;124mapp.log\u001b[39m\u001b[38;5;124m\"\u001b[39m) \u001b[38;5;66;03m# Construct the full path to the log file\u001b[39;00m\n\u001b[0;32m    131\u001b[0m logzero\u001b[38;5;241m.\u001b[39mlogfile(log_path, loglevel\u001b[38;5;241m=\u001b[39mlogging\u001b[38;5;241m.\u001b[39mERROR)  \u001b[38;5;66;03m# Output logs to a date-wise log file\u001b[39;00m\n",
      "File \u001b[1;32m<frozen os>:215\u001b[0m, in \u001b[0;36mmakedirs\u001b[1;34m(name, mode, exist_ok)\u001b[0m\n",
      "File \u001b[1;32m<frozen os>:225\u001b[0m, in \u001b[0;36mmakedirs\u001b[1;34m(name, mode, exist_ok)\u001b[0m\n",
      "\u001b[1;31mOSError\u001b[0m: [WinError 433] A device which does not exist was specified: 'logs'"
     ]
    }
   ],
   "source": [
    "from SmartApi import SmartConnect\n",
    "# Login to the API\n",
    "smart_connect = SmartConnect(api_key=api_key)\n",
    "data = smart_connect.generateSession(client_id, password)\n",
    "\n",
    "# Fetch the access token and user info\n",
    "access_token = data['data']['jwtToken']\n",
    "refresh_token = data['data']['refreshToken']\n",
    "\n",
    "print(f\"Access Token: {access_token}\")"
   ]
  },
  {
   "cell_type": "code",
   "execution_count": 25,
   "metadata": {},
   "outputs": [
    {
     "name": "stdout",
     "output_type": "stream",
     "text": [
      "Error: SmartConnect.ltpData() missing 2 required positional arguments: 'tradingsymbol' and 'symboltoken'\n"
     ]
    }
   ],
   "source": [
    "# Fetch market data (ask and bid price)\n",
    "def fetch_market_data(symbol_token):\n",
    "    try:\n",
    "        # Use the SmartConnect instance to fetch the data\n",
    "        ltp_data = SmartConnect.ltpData(\"NSE\", symbol_token)\n",
    "        \n",
    "        # Extract and print ask and bid prices\n",
    "        ask_price = ltp_data['data']['ask']\n",
    "        bid_price = ltp_data['data']['bid']\n",
    "        \n",
    "        print(f\"Ask Price: {ask_price}\")\n",
    "        print(f\"Bid Price: {bid_price}\")\n",
    "    except Exception as e:\n",
    "        print(f\"Error: {e}\")\n",
    "\n",
    "# Call the function with the token for your stock (you can get the token from Angel One's API documentation)\n",
    "fetch_market_data(\"RELIANCE\")  # Replace with your stock's symbol token\n"
   ]
  },
  {
   "cell_type": "code",
   "execution_count": null,
   "metadata": {},
   "outputs": [],
   "source": []
  }
 ],
 "metadata": {
  "kernelspec": {
   "display_name": "Python 3",
   "language": "python",
   "name": "python3"
  },
  "language_info": {
   "codemirror_mode": {
    "name": "ipython",
    "version": 3
   },
   "file_extension": ".py",
   "mimetype": "text/x-python",
   "name": "python",
   "nbconvert_exporter": "python",
   "pygments_lexer": "ipython3",
   "version": "3.12.5"
  }
 },
 "nbformat": 4,
 "nbformat_minor": 2
}
